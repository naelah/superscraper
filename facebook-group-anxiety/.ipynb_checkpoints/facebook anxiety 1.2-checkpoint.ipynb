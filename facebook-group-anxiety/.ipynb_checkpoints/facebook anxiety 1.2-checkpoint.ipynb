{
 "cells": [
  {
   "cell_type": "code",
   "execution_count": 33,
   "metadata": {},
   "outputs": [],
   "source": [
    "import requests # for web requests\n",
    "from bs4 import BeautifulSoup # a powerful HTML parser\n",
    "from selenium.webdriver import Chrome\n",
    "import pandas as pd # for .csv file read and write\n",
    "import re # for regular regression handling\n",
    "import time\n",
    "import json"
   ]
  },
  {
   "cell_type": "code",
   "execution_count": 34,
   "metadata": {},
   "outputs": [],
   "source": [
    "headers = {'User-Agent':'Mozilla/5.0 (Macintosh; Intel Mac OS X 10_9_5) AppleWebKit/537.36 (KHTML, like Gecko) Chrome/44.0.2403.157 Safari/537.36'}\n",
    "path = \"/usr/local/Caskroom/chromedriver/86.0.4240.22/chromedriver\"\n",
    "driver = Chrome(executable_path=path)\n",
    "time.sleep(2)\n",
    "#driver.implicitly_wait(3)\n",
    "num_of_scroll = 50"
   ]
  },
  {
   "cell_type": "code",
   "execution_count": 35,
   "metadata": {},
   "outputs": [],
   "source": [
    "def scroll_to_the_bottom():\n",
    "        retry = 0\n",
    "\n",
    "        while retry < num_of_scroll:\n",
    "            print('Scrolling..', retry)\n",
    "            driver.execute_script(\"window.scrollTo(0, document.body.scrollHeight)\")\n",
    "            retry = retry + 1\n",
    "            time.sleep(3)"
   ]
  },
  {
   "cell_type": "code",
   "execution_count": null,
   "metadata": {},
   "outputs": [],
   "source": [
    "base_url =  'https://web.facebook.com'\n",
    "#group_url = 'https://mbasic.facebook.com/groups/944893365848617'\n",
    "email = \"arefieqa.1996@gmail.com\"\n",
    "password = \"Fiqa1996\"\n",
    "print('Go to Facebook')\n",
    "driver.get(base_url)\n",
    "print('Log in to Facebook')\n",
    "login_container = driver.find_element_by_xpath(\"//form[@class='_featuredLogin__formContainer']\")\n",
    "email_input = login_container.find_element_by_xpath(\"//input[@id='email']\")\n",
    "email_input.send_keys(email)\n",
    "password_input = login_container.find_element_by_xpath(\"//input[@id='pass']\")\n",
    "password_input.send_keys(password)\n",
    "login_button = login_container.find_element_by_xpath(\"//button[@type='submit']\")\n",
    "login_button.click()\n",
    "time.sleep(5)"
   ]
  },
  {
   "cell_type": "code",
   "execution_count": 5,
   "metadata": {},
   "outputs": [
    {
     "data": {
      "text/plain": [
       "{'top_level_post_id': '1342906366047313',\n",
       " 'content_owner_id_new': '100027613351060',\n",
       " 'page_id': '944893365848617',\n",
       " 'photo_attachments_list': ['718780355719070',\n",
       "  '718780389052400',\n",
       "  '718780429052396'],\n",
       " 'photo_id': '718780355719070',\n",
       " 'story_location': 6,\n",
       " 'story_attachment_style': 'album',\n",
       " 'tds_flgs': 3,\n",
       " 'ott': 'AX9_8biDaUYMZdbQ',\n",
       " 'page_insights': {'944893365848617': {'page_id': '944893365848617',\n",
       "   'page_id_type': 'group',\n",
       "   'actor_id': '100027613351060',\n",
       "   'dm': {'isShare': 0, 'originalPostOwnerID': 0},\n",
       "   'psn': 'EntGroupMallPostCreationStory',\n",
       "   'post_context': {'object_fbtype': 657,\n",
       "    'publish_time': 1601559641,\n",
       "    'story_name': 'EntGroupMallPostCreationStory',\n",
       "    'story_fbid': ['1342906366047313']},\n",
       "   'role': 1,\n",
       "   'sl': 6}},\n",
       " 'tn': '-R'}"
      ]
     },
     "execution_count": 5,
     "metadata": {},
     "output_type": "execute_result"
    }
   ],
   "source": [
    "articles = soup.findAll(\"article\", {\"class\": \"da dc dm\"})\n",
    "detail = json.loads(articles[0]['data-ft'])\n",
    "detail"
   ]
  },
  {
   "cell_type": "code",
   "execution_count": 6,
   "metadata": {},
   "outputs": [
    {
     "data": {
      "text/plain": [
       "'1342906366047313'"
      ]
     },
     "execution_count": 6,
     "metadata": {},
     "output_type": "execute_result"
    }
   ],
   "source": [
    "detail['top_level_post_id']"
   ]
  },
  {
   "cell_type": "code",
   "execution_count": 7,
   "metadata": {},
   "outputs": [
    {
     "data": {
      "text/plain": [
       "['1342906366047313',\n",
       " '1362467470757869',\n",
       " '1362762590728357',\n",
       " '1362150827456200',\n",
       " '1362655594072390',\n",
       " '1362352247436058',\n",
       " '1362725547398728',\n",
       " '1362271370777479']"
      ]
     },
     "execution_count": 7,
     "metadata": {},
     "output_type": "execute_result"
    }
   ],
   "source": [
    "post_ids = list()\n",
    "for article in articles:\n",
    "    detail = json.loads(article['data-ft'])\n",
    "    post_ids.append(detail['top_level_post_id'])\n",
    "post_ids"
   ]
  },
  {
   "cell_type": "code",
   "execution_count": null,
   "metadata": {},
   "outputs": [],
   "source": []
  },
  {
   "cell_type": "markdown",
   "metadata": {},
   "source": [
    "Mobile"
   ]
  },
  {
   "cell_type": "code",
   "execution_count": 8,
   "metadata": {},
   "outputs": [
    {
     "name": "stdout",
     "output_type": "stream",
     "text": [
      "Go to the group\n",
      "Scrolling.. 0\n",
      "Scrolling.. 1\n",
      "Scrolling.. 2\n",
      "Scrolling.. 3\n",
      "Scrolling.. 4\n",
      "Scrolling.. 5\n",
      "Scrolling.. 6\n",
      "Scrolling.. 7\n",
      "Scrolling.. 8\n",
      "Scrolling.. 9\n",
      "Scrolling.. 10\n",
      "Scrolling.. 11\n",
      "Scrolling.. 12\n",
      "Scrolling.. 13\n",
      "Scrolling.. 14\n",
      "Scrolling.. 15\n",
      "Scrolling.. 16\n",
      "Scrolling.. 17\n",
      "Scrolling.. 18\n",
      "Scrolling.. 19\n",
      "Scrolling.. 20\n",
      "Scrolling.. 21\n",
      "Scrolling.. 22\n",
      "Scrolling.. 23\n",
      "Scrolling.. 24\n",
      "Scrolling.. 25\n",
      "Scrolling.. 26\n",
      "Scrolling.. 27\n",
      "Scrolling.. 28\n",
      "Scrolling.. 29\n",
      "Scrolling.. 30\n",
      "Scrolling.. 31\n",
      "Scrolling.. 32\n",
      "Scrolling.. 33\n",
      "Scrolling.. 34\n",
      "Scrolling.. 35\n",
      "Scrolling.. 36\n",
      "Scrolling.. 37\n",
      "Scrolling.. 38\n",
      "Scrolling.. 39\n",
      "Scrolling.. 40\n",
      "Scrolling.. 41\n",
      "Scrolling.. 42\n",
      "Scrolling.. 43\n",
      "Scrolling.. 44\n",
      "Scrolling.. 45\n",
      "Scrolling.. 46\n",
      "Scrolling.. 47\n",
      "Scrolling.. 48\n",
      "Scrolling.. 49\n"
     ]
    }
   ],
   "source": [
    "mobile_url = 'https://mobile.facebook.com/groups/944893365848617'\n",
    "print('Go to the group')\n",
    "driver.get(mobile_url)\n",
    "time.sleep(3)\n",
    "\n",
    "# Scroll\n",
    "scroll_to_the_bottom()\n",
    "driver.implicitly_wait(5)\n",
    "soup = BeautifulSoup(driver.page_source, 'html.parser')"
   ]
  },
  {
   "cell_type": "code",
   "execution_count": 9,
   "metadata": {},
   "outputs": [
    {
     "data": {
      "text/plain": [
       "['/groups/944893365848617?view=permalink&id=1342906366047313',\n",
       " '/groups/944893365848617?view=permalink&id=1362725547398728',\n",
       " '/groups/944893365848617?view=permalink&id=1362467470757869',\n",
       " '/groups/944893365848617?view=permalink&id=1362762590728357',\n",
       " '/story.php?story_fbid=10158662247433875&id=822728874',\n",
       " '/groups/944893365848617?view=permalink&id=1362150827456200',\n",
       " '/groups/944893365848617?view=permalink&id=1362655594072390',\n",
       " '/groups/944893365848617?view=permalink&id=1362352247436058',\n",
       " '/groups/944893365848617?view=permalink&id=1362271370777479',\n",
       " '/groups/944893365848617?view=permalink&id=1361650910839525',\n",
       " '/story.php?story_fbid=5143178205699640&id=232329250117918',\n",
       " '/groups/944893365848617?view=permalink&id=1361915447479738',\n",
       " '/groups/944893365848617?view=permalink&id=1362617020742914',\n",
       " '/groups/944893365848617?view=permalink&id=1359688901035726',\n",
       " '/groups/944893365848617?view=permalink&id=1362742414063708',\n",
       " '/groups/944893365848617?view=permalink&id=1362707990733817',\n",
       " '/story.php?story_fbid=111675304060704&id=101642615063973',\n",
       " '/groups/944893365848617?view=permalink&id=1361863657484917',\n",
       " '/groups/944893365848617?view=permalink&id=1362740700730546',\n",
       " '/story.php?story_fbid=107933267768241&id=101642615063973',\n",
       " '/groups/944893365848617?view=permalink&id=1362442570760359',\n",
       " '/groups/944893365848617?view=permalink&id=1361466534191296',\n",
       " '/groups/944893365848617?view=permalink&id=1362554410749175',\n",
       " '/groups/944893365848617?view=permalink&id=1361838690820747',\n",
       " '/groups/944893365848617?view=permalink&id=1362725567398726']"
      ]
     },
     "execution_count": 9,
     "metadata": {},
     "output_type": "execute_result"
    }
   ],
   "source": [
    "urls = list()\n",
    "urls_clean = list()\n",
    "for a in soup.find_all('a', {'class': '_5msj'}):\n",
    "    urls.append(a['href'])\n",
    "urls\n",
    "\n",
    "for url in urls:\n",
    "    m = re.search('.*&refid', url)\n",
    "    if m:\n",
    "        text = m.group(0)\n",
    "        urls_clean.append(text[:-6])\n",
    "urls_clean"
   ]
  },
  {
   "cell_type": "code",
   "execution_count": 10,
   "metadata": {},
   "outputs": [
    {
     "data": {
      "text/plain": [
       "25"
      ]
     },
     "execution_count": 10,
     "metadata": {},
     "output_type": "execute_result"
    }
   ],
   "source": [
    "len(urls_clean)"
   ]
  },
  {
   "cell_type": "code",
   "execution_count": 48,
   "metadata": {},
   "outputs": [],
   "source": [
    "def getPostDetail(post_href):\n",
    "    ## post_href: an article url\n",
    "    ## return: post details from the post page\n",
    "\n",
    "    base_href = 'https://mobile.facebook.com'\n",
    "    print('Scraping ',post_href,'...')\n",
    "    driver.get(base_href+post_href)\n",
    "    \n",
    "    soup = BeautifulSoup(driver.page_source, 'html.parser')\n",
    "    content = soup.find_all('p')\n",
    "    if not content:\n",
    "        content = soup.find_all('span',{'class' : '_1-sk'})\n",
    "    timestamp = \"g\"\n",
    "\n",
    "#     try:\n",
    "#         #content=driver.find_element_by_id(\"story-body\").text\n",
    "#         content_class = driver.find_elements_by_class_name('_5rgt')\n",
    "#         content = content_class.find_elements_by_tag('p')\n",
    "#     except:\n",
    "#         content = None\n",
    "#     try:\n",
    "#         timestamp = driver.find_elements_by_css_selector('abbr').text\n",
    "#         #side_note=driver.find_element_by_id(\"sideNote\").text\n",
    "#     except:\n",
    "#         timestamp = None\n",
    "    \n",
    "    \n",
    "    return [content, timestamp]"
   ]
  },
  {
   "cell_type": "code",
   "execution_count": 49,
   "metadata": {},
   "outputs": [
    {
     "name": "stdout",
     "output_type": "stream",
     "text": [
      "Scraping  /groups/944893365848617?view=permalink&id=1362725567398726 ...\n",
      "none\n",
      "[[], 'g']\n"
     ]
    }
   ],
   "source": [
    "# https://mobile.facebook.com/groups/944893365848617?view=permalink&id=1360790447592238\n",
    "# parse single post\n",
    "print(getPostDetail('/groups/944893365848617?view=permalink&id=1362725567398726'))"
   ]
  },
  {
   "cell_type": "code",
   "execution_count": null,
   "metadata": {},
   "outputs": [],
   "source": []
  }
 ],
 "metadata": {
  "kernelspec": {
   "display_name": "Python 3",
   "language": "python",
   "name": "python3"
  },
  "language_info": {
   "codemirror_mode": {
    "name": "ipython",
    "version": 3
   },
   "file_extension": ".py",
   "mimetype": "text/x-python",
   "name": "python",
   "nbconvert_exporter": "python",
   "pygments_lexer": "ipython3",
   "version": "3.8.5"
  }
 },
 "nbformat": 4,
 "nbformat_minor": 4
}
